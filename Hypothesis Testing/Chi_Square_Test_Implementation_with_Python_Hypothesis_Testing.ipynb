{
  "nbformat": 4,
  "nbformat_minor": 0,
  "metadata": {
    "colab": {
      "name": "Chi Square Test Implementation with Python- Hypothesis Testing.ipynb",
      "provenance": [],
      "authorship_tag": "ABX9TyPj2gFojr78een/ZPry55+R",
      "include_colab_link": true
    },
    "kernelspec": {
      "name": "python3",
      "display_name": "Python 3"
    }
  },
  "cells": [
    {
      "cell_type": "markdown",
      "metadata": {
        "id": "view-in-github",
        "colab_type": "text"
      },
      "source": [
        "<a href=\"https://colab.research.google.com/github/MabelOlivia/Machine-Learning/blob/master/Hypothesis%20Testing/Chi_Square_Test_Implementation_with_Python_Hypothesis_Testing.ipynb\" target=\"_parent\"><img src=\"https://colab.research.google.com/assets/colab-badge.svg\" alt=\"Open In Colab\"/></a>"
      ]
    },
    {
      "cell_type": "markdown",
      "metadata": {
        "id": "jCL8y0FKN7pe"
      },
      "source": [
        "# Chi Square Test Implementation with Python- Hypothesis Testing"
      ]
    },
    {
      "cell_type": "code",
      "metadata": {
        "id": "OGEl3zZnNCNR"
      },
      "source": [
        "import seaborn as sns\n",
        "import pandas as pd\n",
        "import numpy as np\n",
        "df = sns.load_dataset(\"tips\")"
      ],
      "execution_count": 3,
      "outputs": []
    },
    {
      "cell_type": "code",
      "metadata": {
        "colab": {
          "base_uri": "https://localhost:8080/",
          "height": 204
        },
        "id": "j3KltPIYNmb_",
        "outputId": "aee06f30-eef0-48ca-b1be-f894ae82d4af"
      },
      "source": [
        "df.head()"
      ],
      "execution_count": 4,
      "outputs": [
        {
          "output_type": "execute_result",
          "data": {
            "text/html": [
              "<div>\n",
              "<style scoped>\n",
              "    .dataframe tbody tr th:only-of-type {\n",
              "        vertical-align: middle;\n",
              "    }\n",
              "\n",
              "    .dataframe tbody tr th {\n",
              "        vertical-align: top;\n",
              "    }\n",
              "\n",
              "    .dataframe thead th {\n",
              "        text-align: right;\n",
              "    }\n",
              "</style>\n",
              "<table border=\"1\" class=\"dataframe\">\n",
              "  <thead>\n",
              "    <tr style=\"text-align: right;\">\n",
              "      <th></th>\n",
              "      <th>total_bill</th>\n",
              "      <th>tip</th>\n",
              "      <th>sex</th>\n",
              "      <th>smoker</th>\n",
              "      <th>day</th>\n",
              "      <th>time</th>\n",
              "      <th>size</th>\n",
              "    </tr>\n",
              "  </thead>\n",
              "  <tbody>\n",
              "    <tr>\n",
              "      <th>0</th>\n",
              "      <td>16.99</td>\n",
              "      <td>1.01</td>\n",
              "      <td>Female</td>\n",
              "      <td>No</td>\n",
              "      <td>Sun</td>\n",
              "      <td>Dinner</td>\n",
              "      <td>2</td>\n",
              "    </tr>\n",
              "    <tr>\n",
              "      <th>1</th>\n",
              "      <td>10.34</td>\n",
              "      <td>1.66</td>\n",
              "      <td>Male</td>\n",
              "      <td>No</td>\n",
              "      <td>Sun</td>\n",
              "      <td>Dinner</td>\n",
              "      <td>3</td>\n",
              "    </tr>\n",
              "    <tr>\n",
              "      <th>2</th>\n",
              "      <td>21.01</td>\n",
              "      <td>3.50</td>\n",
              "      <td>Male</td>\n",
              "      <td>No</td>\n",
              "      <td>Sun</td>\n",
              "      <td>Dinner</td>\n",
              "      <td>3</td>\n",
              "    </tr>\n",
              "    <tr>\n",
              "      <th>3</th>\n",
              "      <td>23.68</td>\n",
              "      <td>3.31</td>\n",
              "      <td>Male</td>\n",
              "      <td>No</td>\n",
              "      <td>Sun</td>\n",
              "      <td>Dinner</td>\n",
              "      <td>2</td>\n",
              "    </tr>\n",
              "    <tr>\n",
              "      <th>4</th>\n",
              "      <td>24.59</td>\n",
              "      <td>3.61</td>\n",
              "      <td>Female</td>\n",
              "      <td>No</td>\n",
              "      <td>Sun</td>\n",
              "      <td>Dinner</td>\n",
              "      <td>4</td>\n",
              "    </tr>\n",
              "  </tbody>\n",
              "</table>\n",
              "</div>"
            ],
            "text/plain": [
              "   total_bill   tip     sex smoker  day    time  size\n",
              "0       16.99  1.01  Female     No  Sun  Dinner     2\n",
              "1       10.34  1.66    Male     No  Sun  Dinner     3\n",
              "2       21.01  3.50    Male     No  Sun  Dinner     3\n",
              "3       23.68  3.31    Male     No  Sun  Dinner     2\n",
              "4       24.59  3.61  Female     No  Sun  Dinner     4"
            ]
          },
          "metadata": {
            "tags": []
          },
          "execution_count": 4
        }
      ]
    },
    {
      "cell_type": "code",
      "metadata": {
        "colab": {
          "base_uri": "https://localhost:8080/",
          "height": 323
        },
        "id": "0H5Cu62yOC2B",
        "outputId": "f504ed9e-0a1f-4ed3-918b-596d7a87d985"
      },
      "source": [
        "pd.crosstab(df.sex, df.smoker).plot(kind = \"bar\")"
      ],
      "execution_count": 5,
      "outputs": [
        {
          "output_type": "execute_result",
          "data": {
            "text/plain": [
              "<matplotlib.axes._subplots.AxesSubplot at 0x7f4a69f6fef0>"
            ]
          },
          "metadata": {
            "tags": []
          },
          "execution_count": 5
        },
        {
          "output_type": "display_data",
          "data": {
            "image/png": "[encoded data removed]",
            "text/plain": [
              "<Figure size 432x288 with 1 Axes>"
            ]
          },
          "metadata": {
            "tags": [],
            "needs_background": "light"
          }
        }
      ]
    },
    {
      "cell_type": "code",
      "metadata": {
        "id": "HTC2bH9dOVS2"
      },
      "source": [
        "import scipy.stats as stats"
      ],
      "execution_count": 6,
      "outputs": []
    },
    {
      "cell_type": "code",
      "metadata": {
        "id": "cmhkDCVWOju5"
      },
      "source": [
        "dataset_table = pd.crosstab(df.sex, df.smoker)"
      ],
      "execution_count": 8,
      "outputs": []
    },
    {
      "cell_type": "code",
      "metadata": {
        "colab": {
          "base_uri": "https://localhost:8080/",
          "height": 142
        },
        "id": "wQK4q7GCOnkO",
        "outputId": "a01ff9f3-59c3-47ca-8151-aaa23adcf598"
      },
      "source": [
        "dataset_table"
      ],
      "execution_count": 9,
      "outputs": [
        {
          "output_type": "execute_result",
          "data": {
            "text/html": [
              "<div>\n",
              "<style scoped>\n",
              "    .dataframe tbody tr th:only-of-type {\n",
              "        vertical-align: middle;\n",
              "    }\n",
              "\n",
              "    .dataframe tbody tr th {\n",
              "        vertical-align: top;\n",
              "    }\n",
              "\n",
              "    .dataframe thead th {\n",
              "        text-align: right;\n",
              "    }\n",
              "</style>\n",
              "<table border=\"1\" class=\"dataframe\">\n",
              "  <thead>\n",
              "    <tr style=\"text-align: right;\">\n",
              "      <th>smoker</th>\n",
              "      <th>Yes</th>\n",
              "      <th>No</th>\n",
              "    </tr>\n",
              "    <tr>\n",
              "      <th>sex</th>\n",
              "      <th></th>\n",
              "      <th></th>\n",
              "    </tr>\n",
              "  </thead>\n",
              "  <tbody>\n",
              "    <tr>\n",
              "      <th>Male</th>\n",
              "      <td>60</td>\n",
              "      <td>97</td>\n",
              "    </tr>\n",
              "    <tr>\n",
              "      <th>Female</th>\n",
              "      <td>33</td>\n",
              "      <td>54</td>\n",
              "    </tr>\n",
              "  </tbody>\n",
              "</table>\n",
              "</div>"
            ],
            "text/plain": [
              "smoker  Yes  No\n",
              "sex            \n",
              "Male     60  97\n",
              "Female   33  54"
            ]
          },
          "metadata": {
            "tags": []
          },
          "execution_count": 9
        }
      ]
    },
    {
      "cell_type": "code",
      "metadata": {
        "colab": {
          "base_uri": "https://localhost:8080/"
        },
        "id": "cw4OxoDxO3aB",
        "outputId": "2caf9d3e-9f59-4bd1-ab29-ba393d4b41aa"
      },
      "source": [
        "observerd_values = dataset_table.values\n",
        "observerd_values"
      ],
      "execution_count": 10,
      "outputs": [
        {
          "output_type": "execute_result",
          "data": {
            "text/plain": [
              "array([[60, 97],\n",
              "       [33, 54]])"
            ]
          },
          "metadata": {
            "tags": []
          },
          "execution_count": 10
        }
      ]
    },
    {
      "cell_type": "code",
      "metadata": {
        "colab": {
          "base_uri": "https://localhost:8080/"
        },
        "id": "4RpswXo3PIQX",
        "outputId": "ed9428fe-4492-49b7-ffab-49c587c08876"
      },
      "source": [
        "val = stats.chi2_contingency(dataset_table)\n",
        "val"
      ],
      "execution_count": 11,
      "outputs": [
        {
          "output_type": "execute_result",
          "data": {
            "text/plain": [
              "(0.008763290531773594, 0.925417020494423, 1, array([[59.84016393, 97.15983607],\n",
              "        [33.15983607, 53.84016393]]))"
            ]
          },
          "metadata": {
            "tags": []
          },
          "execution_count": 11
        }
      ]
    },
    {
      "cell_type": "code",
      "metadata": {
        "id": "el8G0sVxPcDr"
      },
      "source": [
        "expected_values = val[3]"
      ],
      "execution_count": 12,
      "outputs": []
    },
    {
      "cell_type": "code",
      "metadata": {
        "id": "1E0yFsN5SsdI"
      },
      "source": [
        "shape = dataset_table.shape"
      ],
      "execution_count": 14,
      "outputs": []
    },
    {
      "cell_type": "code",
      "metadata": {
        "id": "Q_mE0DoOTF3Q"
      },
      "source": [
        "no_of_rows = shape[0]\n",
        "no_of_columns = shape[1]"
      ],
      "execution_count": 15,
      "outputs": []
    },
    {
      "cell_type": "code",
      "metadata": {
        "colab": {
          "base_uri": "https://localhost:8080/"
        },
        "id": "Q5Rqpq5aTfR6",
        "outputId": "f5105f09-58bb-4893-891d-d62261fa43d2"
      },
      "source": [
        "degree_of_freedom = (no_of_rows-1) * (no_of_columns - 1)\n",
        "degree_of_freedom"
      ],
      "execution_count": 16,
      "outputs": [
        {
          "output_type": "execute_result",
          "data": {
            "text/plain": [
              "1"
            ]
          },
          "metadata": {
            "tags": []
          },
          "execution_count": 16
        }
      ]
    },
    {
      "cell_type": "code",
      "metadata": {
        "id": "R4St4WP4TvsX"
      },
      "source": [
        "# set alpha \n",
        "alpha = 0.05"
      ],
      "execution_count": 17,
      "outputs": []
    },
    {
      "cell_type": "code",
      "metadata": {
        "id": "RQWDmgIgT5Fm"
      },
      "source": [
        "from scipy.stats import chi2\n",
        "chi_square=sum([(o-e)**2./e for o,e in zip(observerd_values,expected_values)])\n",
        "chi_square_statistic=chi_square[0]+chi_square[1]"
      ],
      "execution_count": 19,
      "outputs": []
    },
    {
      "cell_type": "code",
      "metadata": {
        "colab": {
          "base_uri": "https://localhost:8080/"
        },
        "id": "-cPo3_5oY569",
        "outputId": "459a0d0f-da1b-43a6-89b5-a6ad6c9e89f7"
      },
      "source": [
        "chi_square"
      ],
      "execution_count": 27,
      "outputs": [
        {
          "output_type": "execute_result",
          "data": {
            "text/plain": [
              "array([0.00119737, 0.00073745])"
            ]
          },
          "metadata": {
            "tags": []
          },
          "execution_count": 27
        }
      ]
    },
    {
      "cell_type": "code",
      "metadata": {
        "id": "u2mUw24UWfOz"
      },
      "source": [
        "zipp = zip(observerd_values,expected_values)"
      ],
      "execution_count": 21,
      "outputs": []
    },
    {
      "cell_type": "code",
      "metadata": {
        "colab": {
          "base_uri": "https://localhost:8080/"
        },
        "id": "JSSIWhixXE24",
        "outputId": "9d75d401-6ae3-4bcf-dee8-6c8d61cd35e2"
      },
      "source": [
        "print(tuple(zipp))"
      ],
      "execution_count": 23,
      "outputs": [
        {
          "output_type": "stream",
          "text": [
            "((array([60, 97]), array([59.84016393, 97.15983607])), (array([33, 54]), array([33.15983607, 53.84016393])))\n"
          ],
          "name": "stdout"
        }
      ]
    },
    {
      "cell_type": "code",
      "metadata": {
        "colab": {
          "base_uri": "https://localhost:8080/"
        },
        "id": "UrGNb-l7Xdyv",
        "outputId": "9ec07d93-24c9-4eaf-c331-51df91f554f8"
      },
      "source": [
        "for o,e in zip(observerd_values,expected_values):\n",
        "  print(o)\n",
        "  print(e)"
      ],
      "execution_count": 26,
      "outputs": [
        {
          "output_type": "stream",
          "text": [
            "[60 97]\n",
            "[59.84016393 97.15983607]\n",
            "[33 54]\n",
            "[33.15983607 53.84016393]\n"
          ],
          "name": "stdout"
        }
      ]
    },
    {
      "cell_type": "code",
      "metadata": {
        "colab": {
          "base_uri": "https://localhost:8080/"
        },
        "id": "S8PYA-sOYgos",
        "outputId": "c43af048-5f12-481e-e0bf-bd3b18e184e6"
      },
      "source": [
        "print(\"chi-square statistic:-\",chi_square_statistic)"
      ],
      "execution_count": 28,
      "outputs": [
        {
          "output_type": "stream",
          "text": [
            "chi-square statistic:- 0.001934818536627623\n"
          ],
          "name": "stdout"
        }
      ]
    },
    {
      "cell_type": "code",
      "metadata": {
        "colab": {
          "base_uri": "https://localhost:8080/"
        },
        "id": "EWZld5-JZGUd",
        "outputId": "17015cec-9e22-46e5-a5c2-ad0b157e3df1"
      },
      "source": [
        "critical_value=chi2.ppf(q=1-alpha,df=degree_of_freedom)\n",
        "print('critical_value:',critical_value)"
      ],
      "execution_count": 30,
      "outputs": [
        {
          "output_type": "stream",
          "text": [
            "critical_value: 3.841458820694124\n"
          ],
          "name": "stdout"
        }
      ]
    },
    {
      "cell_type": "code",
      "metadata": {
        "colab": {
          "base_uri": "https://localhost:8080/"
        },
        "id": "5QQWr8R8ZPKH",
        "outputId": "2e4e1151-181c-47e7-e66e-d1abc137cff0"
      },
      "source": [
        "#p-value\n",
        "p_value=1-chi2.cdf(x=chi_square_statistic,df=degree_of_freedom)\n",
        "print('p-value:',p_value)\n",
        "print('Significance level: ',alpha)\n",
        "print('Degree of Freedom: ',degree_of_freedom)\n",
        "print('p-value:',p_value)"
      ],
      "execution_count": 31,
      "outputs": [
        {
          "output_type": "stream",
          "text": [
            "p-value: 0.964915107315732\n",
            "Significance level:  0.05\n",
            "Degree of Freedom:  1\n",
            "p-value: 0.964915107315732\n"
          ],
          "name": "stdout"
        }
      ]
    },
    {
      "cell_type": "code",
      "metadata": {
        "colab": {
          "base_uri": "https://localhost:8080/"
        },
        "id": "WOJJZI4OZhAB",
        "outputId": "1ad4c695-0094-4152-a937-1b2cb7364a76"
      },
      "source": [
        "if chi_square_statistic>=critical_value:\n",
        "    print(\"Reject H0,There is a relationship between 2 categorical variables\")\n",
        "else:\n",
        "    print(\"Retain H0,There is no relationship between 2 categorical variables\")\n",
        "    \n",
        "if p_value<=alpha:\n",
        "    print(\"Reject H0,There is a relationship between 2 categorical variables\")\n",
        "else:\n",
        "    print(\"Retain H0,There is no relationship between 2 categorical variables\")"
      ],
      "execution_count": 32,
      "outputs": [
        {
          "output_type": "stream",
          "text": [
            "Retain H0,There is no relationship between 2 categorical variables\n",
            "Retain H0,There is no relationship between 2 categorical variables\n"
          ],
          "name": "stdout"
        }
      ]
    },
    {
      "cell_type": "code",
      "metadata": {
        "id": "RCutrOILZoWz"
      },
      "source": [
        ""
      ],
      "execution_count": null,
      "outputs": []
    }
  ]
}