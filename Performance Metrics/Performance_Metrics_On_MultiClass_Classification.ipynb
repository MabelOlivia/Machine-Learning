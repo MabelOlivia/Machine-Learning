{
  "nbformat": 4,
  "nbformat_minor": 0,
  "metadata": {
    "colab": {
      "name": "Performance Metrics On MultiClass Classification.ipynb",
      "provenance": [],
      "authorship_tag": "ABX9TyPGoEggIttjGK7Bb8lNgk9f",
      "include_colab_link": true
    },
    "kernelspec": {
      "name": "python3",
      "display_name": "Python 3"
    }
  },
  "cells": [
    {
      "cell_type": "markdown",
      "metadata": {
        "id": "view-in-github",
        "colab_type": "text"
      },
      "source": [
        "<a href=\"https://colab.research.google.com/github/MabelOlivia/Machine-Learning/blob/master/Performance%20Metrics/Performance_Metrics_On_MultiClass_Classification.ipynb\" target=\"_parent\"><img src=\"https://colab.research.google.com/assets/colab-badge.svg\" alt=\"Open In Colab\"/></a>"
      ]
    },
    {
      "cell_type": "markdown",
      "metadata": {
        "id": "RmwDiWbLcqiF"
      },
      "source": [
        "# Performance Metrics On MultiClass Classification Problems"
      ]
    },
    {
      "cell_type": "code",
      "metadata": {
        "id": "Apj8OR7ecuSl"
      },
      "source": [
        "from sklearn import metrics"
      ],
      "execution_count": 1,
      "outputs": []
    },
    {
      "cell_type": "code",
      "metadata": {
        "id": "UCT4TfKnc5q8"
      },
      "source": [
        "C = \"cat\"\n",
        "D = \"dog\"\n",
        "F = \"fox\""
      ],
      "execution_count": 2,
      "outputs": []
    },
    {
      "cell_type": "markdown",
      "metadata": {
        "id": "uIykugPMdPEn"
      },
      "source": [
        "* The precision of a cat is the number of correctly predicted cats out of all predicted cats\n",
        "\n",
        "* The recall of a cat is the number of correcly predicted cats out of all the actual cats"
      ]
    },
    {
      "cell_type": "code",
      "metadata": {
        "id": "IHIhlFcFdNvK"
      },
      "source": [
        "# true values\n",
        "y_true = [C,C,C,C,C,C,F,F,F,F,F,F,F,F,F,F,D,D,D,D,D,D,D,D,D]\n",
        "\n",
        "# predicted values\n",
        "y_predicted = [C,C,C,C,D,C,C,C,C,C,C,C,D,D,F,F,C,C,C,D,D,D,D,D,D]"
      ],
      "execution_count": 3,
      "outputs": []
    },
    {
      "cell_type": "code",
      "metadata": {
        "colab": {
          "base_uri": "https://localhost:8080/"
        },
        "id": "jR3_zpgmfTea",
        "outputId": "6321ebd0-3694-4982-e764-84826429a090"
      },
      "source": [
        "metrics.confusion_matrix(y_true,y_predicted)"
      ],
      "execution_count": 4,
      "outputs": [
        {
          "output_type": "execute_result",
          "data": {
            "text/plain": [
              "array([[5, 1, 0],\n",
              "       [3, 6, 0],\n",
              "       [6, 2, 2]])"
            ]
          },
          "metadata": {
            "tags": []
          },
          "execution_count": 4
        }
      ]
    },
    {
      "cell_type": "code",
      "metadata": {
        "colab": {
          "base_uri": "https://localhost:8080/",
          "height": 69
        },
        "id": "X0qtGJVIffGZ",
        "outputId": "3152dcf0-8561-41e8-d571-782fef90db4c"
      },
      "source": [
        "import pandas as pd\n",
        "results=metrics.classification_report(y_true,y_predicted, digits=3)\n",
        "results"
      ],
      "execution_count": 9,
      "outputs": [
        {
          "output_type": "execute_result",
          "data": {
            "application/vnd.google.colaboratory.intrinsic+json": {
              "type": "string"
            },
            "text/plain": [
              "'              precision    recall  f1-score   support\\n\\n         cat      0.357     0.833     0.500         6\\n         dog      0.667     0.667     0.667         9\\n         fox      1.000     0.200     0.333        10\\n\\n    accuracy                          0.520        25\\n   macro avg      0.675     0.567     0.500        25\\nweighted avg      0.726     0.520     0.493        25\\n'"
            ]
          },
          "metadata": {
            "tags": []
          },
          "execution_count": 9
        }
      ]
    },
    {
      "cell_type": "code",
      "metadata": {
        "id": "Igk4Jpg8fvXy"
      },
      "source": [
        ""
      ],
      "execution_count": null,
      "outputs": []
    }
  ]
}